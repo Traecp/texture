{
 "cells": [
  {
   "cell_type": "code",
   "execution_count": 1,
   "metadata": {
    "collapsed": false
   },
   "outputs": [
    {
     "name": "stdout",
     "output_type": "stream",
     "text": [
      "Populating the interactive namespace from numpy and matplotlib\n"
     ]
    }
   ],
   "source": [
    "%pylab inline"
   ]
  },
  {
   "cell_type": "code",
   "execution_count": 2,
   "metadata": {
    "collapsed": false
   },
   "outputs": [
    {
     "name": "stdout",
     "output_type": "stream",
     "text": [
      "** joblib was not found - will not be used in TX.upf\n"
     ]
    }
   ],
   "source": [
    "import upf\n",
    "epfformat=upf.epfformat"
   ]
  },
  {
   "cell_type": "code",
   "execution_count": 3,
   "metadata": {
    "collapsed": false
   },
   "outputs": [
    {
     "name": "stdout",
     "output_type": "stream",
     "text": [
      "\n",
      "    Experimental pole figure format controller\n",
      "    mode:\n",
      "      \"steglich\"\n",
      "      \"bruker\"  *.uxd file\n",
      "      \"epf\" (2011-Oct-6) epf popLA experimental pole figure format\n",
      "      \"xpc\" (2017-Feb) xcp format compliant with MAUD\n",
      "\n",
      "    Returns the pole figure data as\n",
      "    the standard format (m x n numpy array)\n",
      "    each of axes stands for rotating (phi) and tilting (khi)\n",
      "    angle in the laboratory space.\n",
      "    These angles will be angle and radius in the\n",
      "    space onto which a pole figure is projected.\n",
      "\n",
      "    conventions:\n",
      "     tilting angle: khi\n",
      "     rotating angle: phi\n",
      "     dk: incremental khi angle\n",
      "     dp: incremental phi angle\n",
      "     nk: number of points along khi axis\n",
      "     np: number of points along phi axis\n",
      "\n",
      "     angles are converted into radian whenever possible\n",
      "\n",
      "    Arguments\n",
      "    =========\n",
      "    mode     = None\n",
      "    filename = None\n",
      "\n",
      "    Returns\n",
      "    =======\n",
      "    data\n",
      "    max_khi\n",
      "    hkl\n",
      "    \n"
     ]
    }
   ],
   "source": [
    "print epfformat.__doc__"
   ]
  },
  {
   "cell_type": "code",
   "execution_count": 63,
   "metadata": {
    "collapsed": false
   },
   "outputs": [
    {
     "name": "stdout",
     "output_type": "stream",
     "text": [
      "** joblib was not found - will not be used in TX.upf\n",
      "You are now reading experimental pole figure(s) :../ExampleFiles/UniformA.xpc\n",
      "There are 11 blocks of data found\n",
      "number of pole figures: 11\n"
     ]
    }
   ],
   "source": [
    "import upf\n",
    "reload(upf)\n",
    "a,b=upf.epfformat(mode='xpc',filename='../ExampleFiles/UniformA.xpc')"
   ]
  },
  {
   "cell_type": "code",
   "execution_count": 60,
   "metadata": {
    "collapsed": false
   },
   "outputs": [
    {
     "data": {
      "text/plain": [
       "array([[[ 100.,  100.,  100., ...,  100.,  100.,  100.],\n",
       "        [ 100.,  100.,  100., ...,  100.,  100.,  100.],\n",
       "        [ 100.,  100.,  100., ...,  100.,  100.,  100.],\n",
       "        ..., \n",
       "        [ 100.,  100.,  100., ...,  100.,  100.,  100.],\n",
       "        [ 100.,  100.,  100., ...,  100.,  100.,  100.],\n",
       "        [ 100.,  100.,  100., ...,  100.,  100.,  100.]],\n",
       "\n",
       "       [[ 100.,  100.,  100., ...,  100.,  100.,  100.],\n",
       "        [ 100.,  100.,  100., ...,  100.,  100.,  100.],\n",
       "        [ 100.,  100.,  100., ...,  100.,  100.,  100.],\n",
       "        ..., \n",
       "        [ 100.,  100.,  100., ...,  100.,  100.,  100.],\n",
       "        [ 100.,  100.,  100., ...,  100.,  100.,  100.],\n",
       "        [ 100.,  100.,  100., ...,  100.,  100.,  100.]],\n",
       "\n",
       "       [[ 100.,  100.,  100., ...,  100.,  100.,  100.],\n",
       "        [ 100.,  100.,  100., ...,  100.,  100.,  100.],\n",
       "        [ 100.,  100.,  100., ...,  100.,  100.,  100.],\n",
       "        ..., \n",
       "        [ 100.,  100.,  100., ...,  100.,  100.,  100.],\n",
       "        [ 100.,  100.,  100., ...,  100.,  100.,  100.],\n",
       "        [ 100.,  100.,  100., ...,  100.,  100.,  100.]],\n",
       "\n",
       "       ..., \n",
       "       [[ 100.,  100.,  100., ...,  100.,  100.,  100.],\n",
       "        [ 100.,  100.,  100., ...,  100.,  100.,  100.],\n",
       "        [ 100.,  100.,  100., ...,  100.,  100.,  100.],\n",
       "        ..., \n",
       "        [ 100.,  100.,  100., ...,  100.,  100.,  100.],\n",
       "        [ 100.,  100.,  100., ...,  100.,  100.,  100.],\n",
       "        [ 100.,  100.,  100., ...,  100.,  100.,  100.]],\n",
       "\n",
       "       [[ 100.,  100.,  100., ...,  100.,  100.,  100.],\n",
       "        [ 100.,  100.,  100., ...,  100.,  100.,  100.],\n",
       "        [ 100.,  100.,  100., ...,  100.,  100.,  100.],\n",
       "        ..., \n",
       "        [ 100.,  100.,  100., ...,  100.,  100.,  100.],\n",
       "        [ 100.,  100.,  100., ...,  100.,  100.,  100.],\n",
       "        [ 100.,  100.,  100., ...,  100.,  100.,  100.]],\n",
       "\n",
       "       [[ 100.,  100.,  100., ...,  100.,  100.,  100.],\n",
       "        [ 100.,  100.,  100., ...,  100.,  100.,  100.],\n",
       "        [ 100.,  100.,  100., ...,  100.,  100.,  100.],\n",
       "        ..., \n",
       "        [ 100.,  100.,  100., ...,  100.,  100.,  100.],\n",
       "        [ 100.,  100.,  100., ...,  100.,  100.,  100.],\n",
       "        [ 100.,  100.,  100., ...,  100.,  100.,  100.]]])"
      ]
     },
     "execution_count": 60,
     "metadata": {},
     "output_type": "execute_result"
    }
   ],
   "source": [
    "a"
   ]
  },
  {
   "cell_type": "code",
   "execution_count": 23,
   "metadata": {
    "collapsed": false
   },
   "outputs": [
    {
     "data": {
      "text/plain": [
       "19"
      ]
     },
     "execution_count": 23,
     "metadata": {},
     "output_type": "execute_result"
    },
    {
     "name": "stdout",
     "output_type": "stream",
     "text": [
      "\n"
     ]
    }
   ],
   "source": [
    "78/4"
   ]
  },
  {
   "cell_type": "code",
   "execution_count": 38,
   "metadata": {
    "collapsed": false
   },
   "outputs": [
    {
     "data": {
      "text/plain": [
       "76"
      ]
     },
     "execution_count": 38,
     "metadata": {},
     "output_type": "execute_result"
    }
   ],
   "source": [
    "19*4"
   ]
  },
  {
   "cell_type": "code",
   "execution_count": 39,
   "metadata": {
    "collapsed": false
   },
   "outputs": [],
   "source": [
    "b=a[0]"
   ]
  },
  {
   "cell_type": "code",
   "execution_count": 45,
   "metadata": {
    "collapsed": false
   },
   "outputs": [
    {
     "data": {
      "text/plain": [
       "pandas.core.frame.DataFrame"
      ]
     },
     "execution_count": 45,
     "metadata": {},
     "output_type": "execute_result"
    }
   ],
   "source": [
    "type(b)"
   ]
  },
  {
   "cell_type": "code",
   "execution_count": 49,
   "metadata": {
    "collapsed": false
   },
   "outputs": [],
   "source": [
    "c=b.values"
   ]
  },
  {
   "cell_type": "code",
   "execution_count": 50,
   "metadata": {
    "collapsed": false
   },
   "outputs": [
    {
     "data": {
      "text/plain": [
       "numpy.ndarray"
      ]
     },
     "execution_count": 50,
     "metadata": {},
     "output_type": "execute_result"
    }
   ],
   "source": [
    "type(c)"
   ]
  },
  {
   "cell_type": "code",
   "execution_count": 52,
   "metadata": {
    "collapsed": false
   },
   "outputs": [
    {
     "data": {
      "text/plain": [
       "(19, 73)"
      ]
     },
     "execution_count": 52,
     "metadata": {},
     "output_type": "execute_result"
    }
   ],
   "source": [
    "c.shape"
   ]
  },
  {
   "cell_type": "code",
   "execution_count": null,
   "metadata": {
    "collapsed": true
   },
   "outputs": [],
   "source": []
  },
  {
   "cell_type": "code",
   "execution_count": null,
   "metadata": {
    "collapsed": true
   },
   "outputs": [],
   "source": []
  },
  {
   "cell_type": "code",
   "execution_count": null,
   "metadata": {
    "collapsed": true
   },
   "outputs": [],
   "source": []
  },
  {
   "cell_type": "code",
   "execution_count": 53,
   "metadata": {
    "collapsed": false
   },
   "outputs": [
    {
     "name": "stdout",
     "output_type": "stream",
     "text": [
      "You are now reading experimental pole figure(s) :../ExampleFiles/dp780.epf\n",
      "number of pole figures: 3\n",
      "dkhi, dphi 5.0 5.0\n",
      "khi range 0.0 90.0\n",
      "phi range 0.0 360.0\n",
      "dkhi, dphi 5.0 5.0\n",
      "khi range 0.0 90.0\n",
      "phi range 0.0 360.0\n",
      "dkhi, dphi 5.0 5.0\n",
      "khi range 0.0 90.0\n",
      "phi range 0.0 360.0\n"
     ]
    }
   ],
   "source": [
    "a,b,c=epfformat(mode='epf',filename='../ExampleFiles/dp780.epf')"
   ]
  },
  {
   "cell_type": "code",
   "execution_count": 54,
   "metadata": {
    "collapsed": false
   },
   "outputs": [
    {
     "name": "stdout",
     "output_type": "stream",
     "text": [
      "(3, 72, 19)\n"
     ]
    }
   ],
   "source": [
    "print a.shape"
   ]
  },
  {
   "cell_type": "code",
   "execution_count": 27,
   "metadata": {
    "collapsed": false
   },
   "outputs": [
    {
     "ename": "IndexError",
     "evalue": "list index out of range",
     "output_type": "error",
     "traceback": [
      "\u001b[0;31m---------------------------------------------------------------------------\u001b[0m",
      "\u001b[0;31mIndexError\u001b[0m                                Traceback (most recent call last)",
      "\u001b[0;32m<ipython-input-27-3ef3908cabc7>\u001b[0m in \u001b[0;36m<module>\u001b[0;34m()\u001b[0m\n\u001b[0;32m----> 1\u001b[0;31m \u001b[0ma\u001b[0m\u001b[0;34m[\u001b[0m\u001b[0;36m1\u001b[0m\u001b[0;34m]\u001b[0m\u001b[0;34m\u001b[0m\u001b[0m\n\u001b[0m",
      "\u001b[0;31mIndexError\u001b[0m: list index out of range"
     ]
    }
   ],
   "source": [
    "a[1]"
   ]
  },
  {
   "cell_type": "code",
   "execution_count": null,
   "metadata": {
    "collapsed": true
   },
   "outputs": [],
   "source": []
  }
 ],
 "metadata": {
  "kernelspec": {
   "display_name": "Python [default]",
   "language": "python",
   "name": "python2"
  },
  "language_info": {
   "codemirror_mode": {
    "name": "ipython",
    "version": 2
   },
   "file_extension": ".py",
   "mimetype": "text/x-python",
   "name": "python",
   "nbconvert_exporter": "python",
   "pygments_lexer": "ipython2",
   "version": "2.7.13"
  }
 },
 "nbformat": 4,
 "nbformat_minor": 2
}
