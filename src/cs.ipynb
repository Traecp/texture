{
 "metadata": {
  "name": "cs"
 }, 
 "nbformat": 2, 
 "worksheets": [
  {
   "cells": [
    {
     "cell_type": "code", 
     "collapsed": false, 
     "input": [
      "import compile; compile.main(filename='cs.f', outbin='cs',optimization=3)"
     ], 
     "language": "python", 
     "outputs": [
      {
       "output_type": "stream", 
       "stream": "stdout", 
       "text": [
        "Automatic python script for compilation of f2py-wrapped EVPSC Fortran code", 
        "for an interactive python environment.", 
        "", 
        "Arguments for the fixed gfortran compiler are:", 
        "-finit-local-zero", 
        "-fno-automatic", 
        "-g", 
        "-Wall", 
        "-fno-align-commons", 
        "-finit-integer=zero", 
        "-finit-real=zero", 
        "-fdefault-double-8", 
        "-fdefault-real-8"
       ]
      }, 
      {
       "output_type": "pyout", 
       "prompt_number": 1, 
       "text": [
        "0"
       ]
      }
     ], 
     "prompt_number": 1
    }, 
    {
     "cell_type": "code", 
     "collapsed": false, 
     "input": [
      "idx = np.zeros((3,3))", 
      "idx[0,0] = 1.", 
      "idx[1,1] = 1.", 
      "idx[2,2] = 1.", 
      "print idx"
     ], 
     "language": "python", 
     "outputs": [
      {
       "output_type": "stream", 
       "stream": "stdout", 
       "text": [
        "[[ 1.  0.  0.]", 
        " [ 0.  1.  0.]", 
        " [ 0.  0.  1.]]"
       ]
      }
     ], 
     "prompt_number": 2
    }, 
    {
     "cell_type": "code", 
     "collapsed": true, 
     "input": [
      "import cs"
     ], 
     "language": "python", 
     "outputs": [], 
     "prompt_number": 3
    }, 
    {
     "cell_type": "code", 
     "collapsed": false, 
     "input": [
      "rot=cs.vector_ang(u=[1,1,1], th=60.)", 
      "print rot"
     ], 
     "language": "python", 
     "outputs": [
      {
       "output_type": "stream", 
       "stream": "stdout", 
       "text": [
        "[[ 0.66666667 -0.33333333  0.66666667]", 
        " [ 0.66666667  0.66666667 -0.33333333]", 
        " [-0.33333333  0.66666667  0.66666667]]"
       ]
      }
     ], 
     "prompt_number": 4
    }, 
    {
     "cell_type": "code", 
     "collapsed": true, 
     "input": [
      "rot=cs.vector_ang(u=[1,1,1], th=60.)"
     ], 
     "language": "python", 
     "outputs": [], 
     "prompt_number": 5
    }, 
    {
     "cell_type": "code", 
     "collapsed": false, 
     "input": [
      "cs.reflect(th=90.)"
     ], 
     "language": "python", 
     "outputs": [
      {
       "output_type": "pyout", 
       "prompt_number": 6, 
       "text": [
        "array([[ -1.00000000e+00,   1.22460635e-16,   0.00000000e+00],", 
        "       [  1.22460635e-16,   1.00000000e+00,   0.00000000e+00],", 
        "       [  0.00000000e+00,   0.00000000e+00,   1.00000000e+00]])"
       ]
      }
     ], 
     "prompt_number": 6
    }, 
    {
     "cell_type": "code", 
     "collapsed": false, 
     "input": [
      "cs.mirror110()"
     ], 
     "language": "python", 
     "outputs": [
      {
       "output_type": "pyout", 
       "prompt_number": 7, 
       "text": [
        "array([[  2.22044605e-16,   1.00000000e+00,   0.00000000e+00],", 
        "       [  1.00000000e+00,  -2.22044605e-16,   0.00000000e+00],", 
        "       [  0.00000000e+00,   0.00000000e+00,   1.00000000e+00]])"
       ]
      }
     ], 
     "prompt_number": 7
    }, 
    {
     "cell_type": "code", 
     "collapsed": false, 
     "input": [
      "cs.rot100_90_180_270()"
     ], 
     "language": "python", 
     "outputs": [
      {
       "output_type": "pyout", 
       "prompt_number": 8, 
       "text": [
        "(array([[  6.12303177e-17,  -1.00000000e+00,   0.00000000e+00],", 
        "       [  1.00000000e+00,   6.12303177e-17,   0.00000000e+00],", 
        "       [  0.00000000e+00,   0.00000000e+00,   1.00000000e+00]]),", 
        " array([[ -1.00000000e+00,  -1.22460635e-16,   0.00000000e+00],", 
        "       [  1.22460635e-16,  -1.00000000e+00,   0.00000000e+00],", 
        "       [  0.00000000e+00,   0.00000000e+00,   1.00000000e+00]]),", 
        " array([[ -1.83690953e-16,   1.00000000e+00,   0.00000000e+00],", 
        "       [ -1.00000000e+00,  -1.83690953e-16,   0.00000000e+00],", 
        "       [  0.00000000e+00,   0.00000000e+00,   1.00000000e+00]]))"
       ]
      }
     ], 
     "prompt_number": 8
    }, 
    {
     "cell_type": "code", 
     "collapsed": false, 
     "input": [
      "print cs.cubic_rot_sym.__doc__"
     ], 
     "language": "python", 
     "outputs": [
      {
       "output_type": "stream", 
       "stream": "stdout", 
       "text": [
        "cubic_rot_sym - Function signature:", 
        "  h,n = cubic_rot_sym(icen)", 
        "Required arguments:", 
        "  icen : input int", 
        "Return objects:", 
        "  h : rank-3 array(&apos;d&apos;) with bounds (3,3,48)", 
        "  n : int", 
        ""
       ]
      }
     ], 
     "prompt_number": 9
    }, 
    {
     "cell_type": "code", 
     "collapsed": false, 
     "input": [
      "h,n=cs.cubic_rot_sym(icen=True)"
     ], 
     "language": "python", 
     "outputs": [], 
     "prompt_number": 10
    }, 
    {
     "cell_type": "code", 
     "collapsed": false, 
     "input": [
      "print n"
     ], 
     "language": "python", 
     "outputs": [
      {
       "output_type": "stream", 
       "stream": "stdout", 
       "text": [
        "48"
       ]
      }
     ], 
     "prompt_number": 11
    }, 
    {
     "cell_type": "code", 
     "collapsed": true, 
     "input": [
      "hh=h.swapaxes(0,2).swapaxes(1,2)"
     ], 
     "language": "python", 
     "outputs": [], 
     "prompt_number": 12
    }, 
    {
     "cell_type": "code", 
     "collapsed": false, 
     "input": [
      "for i in range(n): ", 
      "    print \"%2i \\n%2i %2i %2i\\n%2i %2i %2i\\n%2i %2i %2i\\n\"%\\", 
      "    (i+1,", 
      "     h[0,0,i], ", 
      "     h[0,1,i], ", 
      "     h[0,2,i], ", 
      "     h[1,0,i], ", 
      "     h[1,1,i], ", 
      "     h[1,2,i],", 
      "     h[2,0,i], ", 
      "     h[2,1,i], ", 
      "     h[2,2,i]", 
      "     )"
     ], 
     "language": "python", 
     "outputs": [
      {
       "output_type": "stream", 
       "stream": "stdout", 
       "text": [
        " 1 ", 
        " 1  0  0", 
        " 0  1  0", 
        " 0  0  1", 
        "", 
        " 2 ", 
        " 0  0  1", 
        " 1  0  0", 
        " 0  1  0", 
        "", 
        " 3 ", 
        " 0  1  0", 
        " 0  0  1", 
        " 1  0  0", 
        "", 
        " 4 ", 
        " 0  1  0", 
        " 1  0  0", 
        " 0  0  1", 
        "", 
        " 5 ", 
        " 0  0  1", 
        " 0  1  0", 
        " 1  0  0", 
        "", 
        " 6 ", 
        " 1  0  0", 
        " 0  0  1", 
        " 0  1  0", 
        "", 
        " 7 ", 
        " 0 -1  0", 
        " 1  0  0", 
        " 0  0  1", 
        "", 
        " 8 ", 
        "-1  0  0", 
        " 0 -1  0", 
        " 0  0  1", 
        "", 
        " 9 ", 
        " 0  1  0", 
        "-1  0  0", 
        " 0  0  1", 
        "", 
        "10 ", 
        " 0  0  1", 
        " 0 -1  0", 
        " 1  0  0", 
        "", 
        "11 ", 
        " 0  0  1", 
        "-1  0  0", 
        " 0 -1  0", 
        "", 
        "12 ", 
        " 0  0  1", 
        " 0  1  0", 
        "-1  0  0", 
        "", 
        "13 ", 
        " 1  0  0", 
        " 0  0  1", 
        " 0 -1  0", 
        "", 
        "14 ", 
        " 0 -1  0", 
        " 0  0  1", 
        "-1  0  0", 
        "", 
        "15 ", 
        "-1  0  0", 
        " 0  0  1", 
        " 0  1  0", 
        "", 
        "16 ", 
        " 1  0  0", 
        " 0 -1  0", 
        " 0  0  1", 
        "", 
        "17 ", 
        " 0 -1  0", 
        "-1  0  0", 
        " 0  0  1", 
        "", 
        "18 ", 
        "-1  0  0", 
        " 0  1  0", 
        " 0  0  1", 
        "", 
        "19 ", 
        " 0  0  1", 
        " 1  0  0", 
        " 0 -1  0", 
        "", 
        "20 ", 
        " 0  0  1", 
        " 0 -1  0", 
        "-1  0  0", 
        "", 
        "21 ", 
        " 0  0  1", 
        "-1  0  0", 
        " 0  1  0", 
        "", 
        "22 ", 
        " 0 -1  0", 
        " 0  0  1", 
        " 1  0  0", 
        "", 
        "23 ", 
        "-1  0  0", 
        " 0  0  1", 
        " 0 -1  0", 
        "", 
        "24 ", 
        " 0  1  0", 
        " 0  0  1", 
        "-1  0  0", 
        "", 
        "25 ", 
        "-1  0  0", 
        " 0 -1  0", 
        " 0  0 -1", 
        "", 
        "26 ", 
        " 0  0 -1", 
        "-1  0  0", 
        " 0 -1  0", 
        "", 
        "27 ", 
        " 0 -1  0", 
        " 0  0 -1", 
        "-1  0  0", 
        "", 
        "28 ", 
        " 0 -1  0", 
        "-1  0  0", 
        " 0  0 -1", 
        "", 
        "29 ", 
        " 0  0 -1", 
        " 0 -1  0", 
        "-1  0  0", 
        "", 
        "30 ", 
        "-1  0  0", 
        " 0  0 -1", 
        " 0 -1  0", 
        "", 
        "31 ", 
        " 0  1  0", 
        "-1  0  0", 
        " 0  0 -1", 
        "", 
        "32 ", 
        " 1  0  0", 
        " 0  1  0", 
        " 0  0 -1", 
        "", 
        "33 ", 
        " 0 -1  0", 
        " 1  0  0", 
        " 0  0 -1", 
        "", 
        "34 ", 
        " 0  0 -1", 
        " 0  1  0", 
        "-1  0  0", 
        "", 
        "35 ", 
        " 0  0 -1", 
        " 1  0  0", 
        " 0  1  0", 
        "", 
        "36 ", 
        " 0  0 -1", 
        " 0 -1  0", 
        " 1  0  0", 
        "", 
        "37 ", 
        "-1  0  0", 
        " 0  0 -1", 
        " 0  1  0", 
        "", 
        "38 ", 
        " 0  1  0", 
        " 0  0 -1", 
        " 1  0  0", 
        "", 
        "39 ", 
        " 1  0  0", 
        " 0  0 -1", 
        " 0 -1  0", 
        "", 
        "40 ", 
        "-1  0  0", 
        " 0  1  0", 
        " 0  0 -1", 
        "", 
        "41 ", 
        " 0  1  0", 
        " 1  0  0", 
        " 0  0 -1", 
        "", 
        "42 ", 
        " 1  0  0", 
        " 0 -1  0", 
        " 0  0 -1", 
        "", 
        "43 ", 
        " 0  0 -1", 
        "-1  0  0", 
        " 0  1  0", 
        "", 
        "44 ", 
        " 0  0 -1", 
        " 0  1  0", 
        " 1  0  0", 
        "", 
        "45 ", 
        " 0  0 -1", 
        " 1  0  0", 
        " 0 -1  0", 
        "", 
        "46 ", 
        " 0  1  0", 
        " 0  0 -1", 
        "-1  0  0", 
        "", 
        "47 ", 
        " 1  0  0", 
        " 0  0 -1", 
        " 0  1  0", 
        "", 
        "48 ", 
        " 0 -1  0", 
        " 0  0 -1", 
        " 1  0  0", 
        ""
       ]
      }
     ], 
     "prompt_number": 13
    }, 
    {
     "cell_type": "code", 
     "collapsed": false, 
     "input": [
      "# subroutine uniqpnset is not working rightly", 
      "# It seems that it has something to do with the", 
      "# false array dimension declaration.", 
      "# But still, the pure fortran executable seems working fine.", 
      "raise IOError, 'This follow uniqpnset is buggy for ipython notebook environment.'", 
      "n=[1,0,1]; b=[1,1,1]", 
      "ipr = True", 
      "uni, n = cs.uniqpnset(n=n,b=b,isym=1,ipr=ipr)", 
      "print n", 
      "type(uni)", 
      "print uni.shape", 
      "u = uni.swapaxes(0,2)", 
      "", 
      "for i in range(n): ", 
      "    print \"%2i %2i %2i    %2i %2i %2i\\n\"%\\", 
      "    (u[i,0,0], u[i,0,1], u[i,0,2], u[i,1,0], u[i,1,1], u[i,1,2])", 
      ""
     ], 
     "language": "python", 
     "outputs": [
      {
       "ename": "IOError", 
       "evalue": "This follow uniqpnset is buggy for ipython notebook environment.", 
       "output_type": "pyerr", 
       "traceback": [
        "<span class=\"ansired\">---------------------------------------------------------------------------</span>\n<span class=\"ansired\">IOError</span>                                   Traceback (most recent call last)", 
        "<span class=\"ansigreen\">/Users/yj/Dropbox/devel/test/fortran/&lt;ipython-input-14-a7515354a95b&gt;</span> in <span class=\"ansicyan\">&lt;module&gt;</span><span class=\"ansiblue\">()</span>\n<span class=\"ansigreen\">      3</span> <span class=\"ansired\"># false array dimension declaration.</span>\n<span class=\"ansiblue\"></span>\n<span class=\"ansigreen\">      4</span> <span class=\"ansired\"># But still, the pure fortran executable seems working fine.</span>\n<span class=\"ansiblue\"></span>\n<span class=\"ansigreen\">----&gt; 5</span><span class=\"ansired\"> </span><span class=\"ansigreen\">raise</span> IOError<span class=\"ansiblue\">,</span> <span class=\"ansiblue\">&apos;This follow uniqpnset is buggy for ipython notebook environment.&apos;</span><span class=\"ansiblue\"></span>\n<span class=\"ansigreen\">      6</span> n<span class=\"ansiblue\">=</span><span class=\"ansiblue\">[</span><span class=\"ansicyan\">1</span><span class=\"ansiblue\">,</span><span class=\"ansicyan\">0</span><span class=\"ansiblue\">,</span><span class=\"ansicyan\">1</span><span class=\"ansiblue\">]</span><span class=\"ansiblue\">;</span> b<span class=\"ansiblue\">=</span><span class=\"ansiblue\">[</span><span class=\"ansicyan\">1</span><span class=\"ansiblue\">,</span><span class=\"ansicyan\">1</span><span class=\"ansiblue\">,</span><span class=\"ansicyan\">1</span><span class=\"ansiblue\">]</span><span class=\"ansiblue\"></span>\n<span class=\"ansigreen\">      7</span> ipr <span class=\"ansiblue\">=</span> True<span class=\"ansiblue\"></span>\n", 
        "<span class=\"ansired\">IOError</span>: This follow uniqpnset is buggy for ipython notebook environment."
       ]
      }
     ], 
     "prompt_number": 14
    }, 
    {
     "cell_type": "code", 
     "collapsed": false, 
     "input": [
      "cs.unitcv(miller=[2,-200,100], icrysym=1, angs=[90,90,90], cdim=[1,1,1], verbose=True)"
     ], 
     "language": "python", 
     "outputs": [
      {
       "output_type": "pyout", 
       "prompt_number": 32, 
       "text": [
        "array([ 0.00894391, -0.89439142,  0.44719571])"
       ]
      }
     ], 
     "prompt_number": 32
    }, 
    {
     "cell_type": "code", 
     "collapsed": true, 
     "input": [], 
     "language": "python", 
     "outputs": [], 
     "prompt_number": 23
    }, 
    {
     "cell_type": "code", 
     "collapsed": true, 
     "input": [], 
     "language": "python", 
     "outputs": [], 
     "prompt_number": "&nbsp;"
    }, 
    {
     "cell_type": "code", 
     "collapsed": true, 
     "input": [], 
     "language": "python", 
     "outputs": [], 
     "prompt_number": "&nbsp;"
    }
   ]
  }
 ]
}