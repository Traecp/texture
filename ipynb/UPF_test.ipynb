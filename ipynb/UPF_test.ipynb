{
 "cells": [
  {
   "cell_type": "code",
   "execution_count": null,
   "metadata": {
    "collapsed": false
   },
   "outputs": [],
   "source": [
    "%pylab inline\n",
    "from TX import upf, cmb\n",
    "\n",
    "filename='/Users/yj/repo/vpsc/vpsc-dev-fld/examples/ex15_FLD/magnesium/az31/LS_AZ31_1.3mm.tex'\n",
    "\n",
    "mypf=upf.polefigure(filename=filename,csym='hexag',cdim=[1,1,1.43])\n",
    "mypf.pf(pole=[[0,0,0,2],[1,0,-1,0],[1,0,2,0]],cmode='jet',mode='contourf')"
   ]
  }
 ],
 "metadata": {
  "kernelspec": {
   "display_name": "Python 2",
   "language": "python",
   "name": "python2"
  },
  "language_info": {
   "codemirror_mode": {
    "name": "ipython",
    "version": 2
   },
   "file_extension": ".py",
   "mimetype": "text/x-python",
   "name": "python",
   "nbconvert_exporter": "python",
   "pygments_lexer": "ipython2",
   "version": "2.7.11"
  }
 },
 "nbformat": 4,
 "nbformat_minor": 0
}
