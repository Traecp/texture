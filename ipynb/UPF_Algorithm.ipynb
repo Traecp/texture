{
 "cells": [
  {
   "cell_type": "markdown",
   "metadata": {},
   "source": [
    "# Way to find to improve my pole figure plotting algorithm\n",
    "- This Jupyter notebook is to validate/optimize pole figure plotting algorithm used in the upf package"
   ]
  },
  {
   "cell_type": "code",
   "execution_count": null,
   "metadata": {
    "collapsed": false
   },
   "outputs": [],
   "source": [
    "%pylab inline\n",
    "from TX import upf, cmb\n",
    "euler=upf.euler\n",
    "import matplotlib.pyplot as plt\n",
    "from mpl_toolkits.mplot3d import Axes3D\n",
    "from matplotlib.mlab import griddata\n",
    "from for_lib import projection as proj_f\n",
    "import proj_cy\n",
    "\n",
    "import time\n",
    "from MP import progress_bar\n",
    "uet=progress_bar.update_elapsed_time\n",
    "\n",
    "###\n",
    "from mpl_toolkits.basemap import Basemap\n",
    "\n",
    "def cart2sph(x, y, z):\n",
    "    dxy = np.sqrt(x**2 + y**2)\n",
    "    r = np.sqrt(dxy**2 + z**2)\n",
    "    theta = np.arctan2(y, x)\n",
    "    phi = np.arctan2(z, dxy)\n",
    "    theta, phi = np.rad2deg([theta, phi])\n",
    "    return theta % 360, phi, r\n",
    "\n",
    "def sph2cart(theta, phi, r=1):\n",
    "    import numpy as np\n",
    "    theta = np.deg2rad(theta)\n",
    "    phi   = np.deg2rad(phi)\n",
    "    z = r * np.sin(phi)\n",
    "    rcosphi = r * np.cos(phi)\n",
    "    x = rcosphi * np.cos(theta)\n",
    "    y = rcosphi * np.sin(theta)\n",
    "    return x, y, z"
   ]
  },
  {
   "cell_type": "markdown",
   "metadata": {},
   "source": [
    "## Create a set of discrete orientations"
   ]
  },
  {
   "cell_type": "code",
   "execution_count": null,
   "metadata": {
    "collapsed": false
   },
   "outputs": [],
   "source": [
    "#grains=cmb.random(phi1=360,phi=90,phi2=360,ngrain=1000)\n",
    "grains=np.loadtxt('/Users/yj/repo/vpsc/vpsc-dev-fld/mat/bcc/gamma_fib_ngr00100_sigma015.cmb',skiprows=4)\n",
    "#grains=np.loadtxt('/Users/yj/repo/vpsc/vpsc-dev-fld/examples/ex15_FLD/dat/B_ST_02000.cmb',skiprows=4)\n",
    "\n",
    "\n",
    "\n",
    "fig = plt.figure()\n",
    "ax = fig.add_subplot(111, projection='3d')\n",
    "\n",
    "for i in xrange(len(grains)):\n",
    "    ph1,ph,ph2=grains[i][:3]\n",
    "    ax.scatter(ph1,ph,ph2,'.',s=0.5)\n",
    "\n",
    "ax.set_xlim(0,360)\n",
    "ax.set_ylim(0,90)\n",
    "ax.set_zlim(0,360)"
   ]
  },
  {
   "cell_type": "markdown",
   "metadata": {},
   "source": [
    "## Given the pole (hkl), find an equivalent set of poles with crystal symmetry is applied."
   ]
  },
  {
   "cell_type": "code",
   "execution_count": null,
   "metadata": {
    "collapsed": false
   },
   "outputs": [],
   "source": [
    "#upf.polefigure.cells(pole=[1,0,0],dm=7.5,dn=7.5,csym='cubic',poles_gr=grains)\n",
    "from sym import cv, cubic\n",
    "vect=np.array([1,1,0]) ## hkl miller indices\n",
    "vect=vect/sqrt((vect**2).sum())\n",
    "H=cubic()\n",
    "print H.shape\n",
    "vect_fam = np.zeros((len(H),3))\n",
    "for i in xrange(len(H)):\n",
    "    vect_fam[i,:] = np.dot(H[i],vect)\n",
    "\n",
    "## sort only the unique vectors.\n",
    "poles_ca = []\n",
    "for i in xrange(len(H)):\n",
    "    cH=vect_fam[i].copy()\n",
    "    if upf.__isunique__(a=cH,b=poles_ca):\n",
    "        poles_ca.append(cH)\n",
    "\n",
    "#print len(H),'->',len(poles_ca)\n",
    "\n",
    "#include inverse directions.\n",
    "n=len(poles_ca)\n",
    "for i in xrange(n):\n",
    "    poles_ca.append(poles_ca[i]*(-1))\n",
    "    \n",
    "fig = plt.figure()\n",
    "ax = fig.add_subplot(111, projection='3d')\n",
    "for i in xrange(len(poles_ca)):\n",
    "    x,y,z=poles_ca[i][:]\n",
    "    l, = ax.plot(xs=[0,x],ys=[0,y],zs=[0,z])\n",
    "    ax.text(x,y,z,'(%i%i%i)'%(x,y,z))\n",
    "    \n",
    "ax.set_aspect('equal')"
   ]
  },
  {
   "cell_type": "markdown",
   "metadata": {},
   "source": [
    "## Find poles of grains "
   ]
  },
  {
   "cell_type": "code",
   "execution_count": null,
   "metadata": {
    "collapsed": false
   },
   "outputs": [],
   "source": [
    "poles_sa=np.zeros((len(grains),len(poles_ca),3))\n",
    "poles_wgt=np.zeros((len(grains),len(poles_ca)))\n",
    "\n",
    "t0=time.time()\n",
    "t_euler = 0.\n",
    "for i in xrange(len(grains)):\n",
    "    phi1,phi,phi2,wgt=grains[i]\n",
    "    t_=time.time()\n",
    "    amat = euler(phi1,phi,phi2,echo=False) ## ca<-sa\n",
    "    t_=time.time()-t_\n",
    "    t_euler=t_euler+t_\n",
    "    for j in xrange(len(poles_ca)):\n",
    "        p = poles_ca[j]\n",
    "        p = p/(np.sqrt(p**2)).sum()\n",
    "        poles_sa[i,j,:]=np.dot(amat.T,p)\n",
    "        poles_wgt[i,j]=wgt\n",
    "\n",
    "uet(time.time()-t0,head='time spent to get all poles')\n",
    "uet(t_euler,head='Time spent in euler')\n",
    "\n",
    "        \n",
    "poles_sa = poles_sa.reshape((len(grains)*len(poles_ca),3))\n",
    "poles_wgt = poles_wgt.reshape((len(grains)*len(poles_ca)))\n",
    "\n",
    "fig=plt.figure()\n",
    "#ax=fig.add_subplot(221)\n",
    "ax=fig.add_subplot(111, projection='3d')\n",
    "\n",
    "t=time.time()\n",
    "t_proj = 0.\n",
    "t_plot = 0.\n",
    "for i in xrange(len(poles_sa)):\n",
    "    t_=time.time()\n",
    "    #X,Y = proj_cy.projection(poles_sa[i]) \n",
    "    X,Y = proj_f(poles_sa[i])\n",
    "    t_ = time.time()-t_\n",
    "    t_proj=t_proj + t_\n",
    "    x,y,z=poles_sa[i]\n",
    "    t_=time.time()\n",
    "    ax.scatter(x,y,z,color='r',s=0.2)\n",
    "    if (X**2+Y**2)<=1:\n",
    "        ax.scatter(X,Y,0,s=0.10,color='k')\n",
    "    t_ = time.time()-t_\n",
    "    t_plot = t_plot + t_\n",
    "\n",
    "print\n",
    "uet(time.time()-t0,head='time spent to get all poles projected')\n",
    "print\n",
    "uet(t_proj,head='time spent for projection')\n",
    "print\n",
    "uet(t_plot,head='time spent for plotting')\n",
    "\n",
    "ths=np.linspace(-np.pi,pi,360)\n",
    "xs=np.cos(ths);ys=np.sin(ths)\n",
    "plot(xs,ys,'-',color='k',lw=0.5)\n",
    "\n",
    "ax.set_xlim(-1.1,1.1); ax.set_ylim(-1.1,1.1)\n",
    "ax.set_aspect('equal')\n",
    "## poles_sa and xy"
   ]
  },
  {
   "cell_type": "markdown",
   "metadata": {
    "collapsed": true
   },
   "source": [
    "## Pole figures in cartensian coordinate"
   ]
  },
  {
   "cell_type": "code",
   "execution_count": null,
   "metadata": {
    "collapsed": false
   },
   "outputs": [],
   "source": [
    "fig=plt.figure()\n",
    "ax=fig.add_subplot(111)\n",
    "\n",
    "for i in xrange(len(poles_sa)):\n",
    "    #X,Y = upf.projection(pole=poles_sa[i])\n",
    "    X,Y = proj_f(poles_sa[i])\n",
    "    if (X**2+Y**2)<=1:\n",
    "        ax.plot(X,Y,'k.')\n",
    "ths=np.linspace(-np.pi,pi,360)\n",
    "xs=np.cos(ths);ys=np.sin(ths)\n",
    "plot(xs,ys,'-',color='k',lw=0.5)\n",
    "\n",
    "ax.set_xlim(-1.1,1.1)\n",
    "ax.set_ylim(-1.1,1.1)\n",
    "ax.set_aspect('equal')\n",
    "ax.set_axis_off()"
   ]
  },
  {
   "cell_type": "code",
   "execution_count": null,
   "metadata": {
    "collapsed": false
   },
   "outputs": [],
   "source": [
    "fig=plt.figure()\n",
    "ax = plt.subplot(111, projection='polar')\n",
    "\n",
    "R=[]; T=[]\n",
    "for i in xrange(len(poles_sa)):\n",
    "    #X,Y = upf.projection(pole=poles_sa[i])\n",
    "    X,Y = proj_f(poles_sa[i])\n",
    "    if (X**2+Y**2)<=1 or True:\n",
    "        r, theta = upf.cart2polar(X,Y)\n",
    "        R.append(r); T.append(theta)\n",
    "        plot(theta,r,'k.')\n",
    "        ax.grid(False)\n",
    "\n",
    "#r,t = np.meshgrid(R, T)\n",
    "\n",
    "#w = griddata(R,T,poles_wgt, r, t,interp=u'linear')\n",
    "#ax.contourf(t, r, w)\n",
    "ax.set_rmax(1,)"
   ]
  },
  {
   "cell_type": "markdown",
   "metadata": {},
   "source": [
    "## Mapped to Cartensian coordinate of ($\\phi$,$\\theta$)\n",
    "- phi ($\\phi$): tilting  (distance from the pole)\n",
    "- theta ($\\theta)$: rotation\n"
   ]
  },
  {
   "cell_type": "code",
   "execution_count": null,
   "metadata": {
    "collapsed": false
   },
   "outputs": [],
   "source": [
    "fig=plt.figure(figsize=(6,6))\n",
    "ax1=fig.add_subplot(111)\n",
    "\n",
    "#dx=90.;dy=45.; tiny=1e-9\n",
    "dx=7.5;dy=7.5; tiny=1e-9\n",
    "x=np.arange(-180.,180.+tiny,dx)\n",
    "y=np.arange(0.,180.+tiny,dy)\n",
    "\n",
    "## boundary of a polar pole:\n",
    "ax1.plot([-180,-180,180,180,-180],[0,90,90,0,0],'--',color='gray',label='pole boundary')\n",
    "nx, ny = int(360./dx), int(180./dy)\n",
    "f=np.zeros((nx,ny))\n",
    "print 'f.shape:',f.shape\n",
    "\n",
    "x_node = np.arange(-180.,180.+tiny,dx)\n",
    "y_node = np.arange(0.,90.+tiny,dy)\n",
    "nx_node=len(x_node)\n",
    "ny_node=len(y_node)\n",
    "nodes=np.zeros((nx_node,ny_node))\n",
    "print 'nodes.shape:', nodes.shape\n",
    "\n",
    "X, Y = meshgrid(x, y)\n",
    "for i in xrange(len(x)):\n",
    "    for j in xrange(len(y)):\n",
    "        if i+j==0:\n",
    "            lab1='node[i,j]'; lab2='f[i,j]'\n",
    "        else:\n",
    "            lab1=None; lab2=None\n",
    "        ax1.plot(x[i],y[j],'r+',ms=2,label=lab1)\n",
    "        ax1.plot(x[i]+dx/2.,y[j]+dy/2.,'o',\n",
    "                 mfc='b',mec='None',\n",
    "                 alpha=1.0,ms=4,label=lab2)\n",
    "\n",
    "print 'ylim:', y[-1]\n",
    "phs,ths,wgts=[],[],[]\n",
    "for i in xrange(len(poles_sa)):\n",
    "    X,Y = upf.projection(pole=poles_sa[i])\n",
    "    theta,phi = upf.cart2sph(poles_sa[i])\n",
    "    x_,y_=theta*180/np.pi,phi*180/np.pi\n",
    "    ax1.plot(x_,y_,'m.',ms=6,alpha=0.2)\n",
    "\n",
    "    if  X**2+Y**2>=1. or True:\n",
    "        #ax.plot(X,Y,'k.')\n",
    "        wgts.append(poles_wgt[i]) ## weights\n",
    "        phs.append(phi)\n",
    "        ths.append(theta)        \n",
    "\n",
    "        ## Determine ix and iy to be assigned\n",
    "        ix = int((x_+180)/dx-1e-9)\n",
    "        iy = int( y_/dy-1e-9)\n",
    "        f[ix,iy]=f[ix,iy]+poles_wgt[i]\n",
    "\n",
    "for i in xrange(nx):\n",
    "    for j in xrange(ny):\n",
    "        ax1.text(x[i]+dx/2.,y[j]+dy/2.,'%3.2f'%f[i,j])\n",
    "## assign to f.\n",
    "\n",
    "fsum=f[:,:int(ny/2)].flatten().sum()\n",
    "\n",
    "## Normalization\n",
    "#inorm=False\n",
    "inorm=True\n",
    "if inorm:\n",
    "    print 'nx,ny:', nx,ny\n",
    "    z=np.zeros((ny+1))\n",
    "    dz = (pi)/float(ny)\n",
    "    for i in xrange(ny+1):\n",
    "        z[i]=dz*i\n",
    "    dx_=2.*pi/nx\n",
    "    for ix in xrange(nx):\n",
    "        for iy in xrange(ny):\n",
    "            fnorm = (np.cos(z[iy])-np.cos(z[iy+1]))*dx_ / (2.*np.pi)\n",
    "            f[ix,iy]=f[ix,iy]/fnorm/fsum\n",
    "##\n",
    "\n",
    "\n",
    "## Extention of f_bounds\n",
    "f_bounds=np.zeros((nx+2,ny+2))\n",
    "f_bounds[1:-1,1:-1]=f[:,:]\n",
    "f_bounds[-1,1:-1]=f[0,:]\n",
    "f_bounds[0,1:-1]=f[-1,:]\n",
    "f_bounds[1:-1,0]=f[:,-1]\n",
    "f_bounds[0,0]=f_bounds[0,-2]\n",
    "f_bounds[-1,0]=f_bounds[-1,-2]\n",
    "f_bounds[:,-1]=f_bounds[:,1]\n",
    "\n",
    "for i in xrange(nx+2):\n",
    "    for j in xrange(ny+2):\n",
    "        ax1.plot(dx*(i-1)+dx/2.-180.,dy*(j-1)+dy/2.,'g+')\n",
    "        if f_bounds[i,j]!=0:\n",
    "            ax1.text(dx*(i-1)-180+dx/4.,dy*(j-1)+dy/4.,'%3.2f'%f_bounds[i,j],color='green')\n",
    "\n",
    "## Average by neighbours\n",
    "for i in xrange(len(nodes)):\n",
    "    for j in xrange(len(nodes[i])):\n",
    "        nodes[i][j] = (f_bounds[i][j]+f_bounds[i+1][j]+f_bounds[i][j+1]+f_bounds[i+1][j+1])/4.\n",
    "        ax1.text(x[i],y[j],'%.4f'%nodes[i][j])\n",
    "\n",
    "## Deco\n",
    "dw=dx*0.8\n",
    "ax1.set_xlim(-180-dw,180.+dw)\n",
    "ax1.set_xticks(np.arange(-180,180.001,90)); ax1.set_yticks(np.arange(0,180.001,30))\n",
    "ax1.set_ylim(0-dw,180+dw)\n",
    "ax1.set_xlabel(r'$\\theta$'); ax1.set_ylabel(r'$\\phi$')\n",
    "ax1.legend(bbox_to_anchor=(1.5,1))\n",
    "# print f"
   ]
  },
  {
   "cell_type": "markdown",
   "metadata": {},
   "source": [
    "## Contour"
   ]
  },
  {
   "cell_type": "code",
   "execution_count": null,
   "metadata": {
    "collapsed": false
   },
   "outputs": [],
   "source": [
    "fig=plt.figure(figsize=(12,4))\n",
    "ax1=fig.add_subplot(131);\n",
    "ax2=fig.add_subplot(132)\n",
    "ax3=fig.add_subplot(133)\n",
    "\n",
    "XN,YN=meshgrid(x_node,y_node)\n",
    "\n",
    "#print nodes.shape\n",
    "cnt=ax1.contourf(XN,YN,nodes.T)\n",
    "#colorbar()\n",
    "\n",
    "new=nodes.copy()\n",
    "n = 3\n",
    "for i in xrange(n):\n",
    "    new[:,i]=new[:,i].sum()/len(new[:,i])\n",
    "cnt=ax2.contour(XN,YN,new.T)\n",
    "cnt=ax3.contourf(XN,YN,new.T,cmap='gray_r')\n",
    "#ax2.imshow(new.T,interpolation='cubic')\n",
    "#colorbar()"
   ]
  },
  {
   "cell_type": "code",
   "execution_count": null,
   "metadata": {
    "collapsed": false
   },
   "outputs": [],
   "source": [
    "fig=plt.figure()\n",
    "ax=fig.add_subplot(111,projection='polar')\n",
    "ax.contourf(XN*np.pi/180.+np.pi/2.,YN*np.pi/180.,new.T)"
   ]
  }
 ],
 "metadata": {
  "kernelspec": {
   "display_name": "Python 2",
   "language": "python",
   "name": "python2"
  },
  "language_info": {
   "codemirror_mode": {
    "name": "ipython",
    "version": 2
   },
   "file_extension": ".py",
   "mimetype": "text/x-python",
   "name": "python",
   "nbconvert_exporter": "python",
   "pygments_lexer": "ipython2",
   "version": "2.7.11"
  }
 },
 "nbformat": 4,
 "nbformat_minor": 0
}
